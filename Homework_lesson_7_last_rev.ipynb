{
  "nbformat": 4,
  "nbformat_minor": 0,
  "metadata": {
    "colab": {
      "name": "Homework_lesson_7_last_rev.ipynb",
      "provenance": [],
      "collapsed_sections": [],
      "include_colab_link": true
    },
    "kernelspec": {
      "display_name": "Python 3",
      "language": "python",
      "name": "python3"
    },
    "language_info": {
      "codemirror_mode": {
        "name": "ipython",
        "version": 3
      },
      "file_extension": ".py",
      "mimetype": "text/x-python",
      "name": "python",
      "nbconvert_exporter": "python",
      "pygments_lexer": "ipython3",
      "version": "3.8.3"
    }
  },
  "cells": [
    {
      "cell_type": "markdown",
      "metadata": {
        "id": "view-in-github",
        "colab_type": "text"
      },
      "source": [
        "<a href=\"https://colab.research.google.com/github/Pavel184/NLP_basic_course/blob/Homework_lesson_7/Homework_lesson_7_last_rev.ipynb\" target=\"_parent\"><img src=\"https://colab.research.google.com/assets/colab-badge.svg\" alt=\"Open In Colab\"/></a>"
      ]
    },
    {
      "cell_type": "markdown",
      "metadata": {
        "id": "fSYSq4EXoL74"
      },
      "source": [
        "### HOMEWORK_LESSON_7"
      ]
    },
    {
      "cell_type": "markdown",
      "metadata": {
        "id": "BjBwPdHcWr0e"
      },
      "source": [
        "1. Учим conv сеть для классификации"
      ]
    },
    {
      "cell_type": "code",
      "metadata": {
        "id": "1wP3Q9PeMgZO",
        "colab": {
          "base_uri": "https://localhost:8080/"
        },
        "outputId": "a37e2083-0961-46bc-dba8-afe671826a79"
      },
      "source": [
        "!pip install pymorphy2"
      ],
      "execution_count": 1,
      "outputs": [
        {
          "output_type": "stream",
          "name": "stdout",
          "text": [
            "Collecting pymorphy2\n",
            "  Downloading pymorphy2-0.9.1-py3-none-any.whl (55 kB)\n",
            "\u001b[?25l\r\u001b[K     |██████                          | 10 kB 17.9 MB/s eta 0:00:01\r\u001b[K     |███████████▉                    | 20 kB 23.3 MB/s eta 0:00:01\r\u001b[K     |█████████████████▊              | 30 kB 28.3 MB/s eta 0:00:01\r\u001b[K     |███████████████████████▋        | 40 kB 25.3 MB/s eta 0:00:01\r\u001b[K     |█████████████████████████████▌  | 51 kB 10.4 MB/s eta 0:00:01\r\u001b[K     |████████████████████████████████| 55 kB 2.8 MB/s \n",
            "\u001b[?25hCollecting dawg-python>=0.7.1\n",
            "  Downloading DAWG_Python-0.7.2-py2.py3-none-any.whl (11 kB)\n",
            "Requirement already satisfied: docopt>=0.6 in /usr/local/lib/python3.7/dist-packages (from pymorphy2) (0.6.2)\n",
            "Collecting pymorphy2-dicts-ru<3.0,>=2.4\n",
            "  Downloading pymorphy2_dicts_ru-2.4.417127.4579844-py2.py3-none-any.whl (8.2 MB)\n",
            "\u001b[K     |████████████████████████████████| 8.2 MB 1.3 MB/s \n",
            "\u001b[?25hInstalling collected packages: pymorphy2-dicts-ru, dawg-python, pymorphy2\n",
            "Successfully installed dawg-python-0.7.2 pymorphy2-0.9.1 pymorphy2-dicts-ru-2.4.417127.4579844\n"
          ]
        }
      ]
    },
    {
      "cell_type": "code",
      "metadata": {
        "id": "Tskwb78hMgZP",
        "colab": {
          "base_uri": "https://localhost:8080/"
        },
        "outputId": "4c20d603-6440-43d1-8914-bfd507fed034"
      },
      "source": [
        "!pip install stop-words"
      ],
      "execution_count": 2,
      "outputs": [
        {
          "output_type": "stream",
          "name": "stdout",
          "text": [
            "Collecting stop-words\n",
            "  Downloading stop-words-2018.7.23.tar.gz (31 kB)\n",
            "Building wheels for collected packages: stop-words\n",
            "  Building wheel for stop-words (setup.py) ... \u001b[?25l\u001b[?25hdone\n",
            "  Created wheel for stop-words: filename=stop_words-2018.7.23-py3-none-any.whl size=32912 sha256=9ca2109ffe76397f4f8ebaa106e3f1e6f84425de85f4bd76c62d92b591f93749\n",
            "  Stored in directory: /root/.cache/pip/wheels/fb/86/b2/277b10b1ce9f73ce15059bf6975d4547cc4ec3feeb651978e9\n",
            "Successfully built stop-words\n",
            "Installing collected packages: stop-words\n",
            "Successfully installed stop-words-2018.7.23\n"
          ]
        }
      ]
    },
    {
      "cell_type": "code",
      "metadata": {
        "id": "IxR11Ed7MgZP",
        "colab": {
          "base_uri": "https://localhost:8080/"
        },
        "outputId": "1b1235e5-f2e1-4494-dd42-c64512052be7"
      },
      "source": [
        "import pandas as pd\n",
        "import numpy as np\n",
        "import keras\n",
        "from keras import utils as np_utils\n",
        "from keras.models import Sequential, Model\n",
        "from keras.layers import Dense, Dropout, Activation, Input, Embedding, Conv1D, GlobalMaxPool1D, Concatenate\n",
        "from keras.preprocessing.text import Tokenizer\n",
        "from keras.preprocessing.sequence import pad_sequences\n",
        "from keras.callbacks import TensorBoard \n",
        "#from keras.objectives import categorical_crossentropy\n",
        "from keras.callbacks import EarlyStopping  \n",
        "from sklearn import model_selection, preprocessing, linear_model\n",
        "import tensorflow as tf\n",
        "from string import punctuation\n",
        "from stop_words import get_stop_words\n",
        "from pymorphy2 import MorphAnalyzer\n",
        "import re\n",
        "import nltk\n",
        "from nltk.tokenize import word_tokenize\n",
        "nltk.download(\"punkt\")\n",
        "from nltk.probability import FreqDist\n",
        "import os\n",
        "from datetime import datetime, date"
      ],
      "execution_count": 3,
      "outputs": [
        {
          "output_type": "stream",
          "name": "stdout",
          "text": [
            "[nltk_data] Downloading package punkt to /root/nltk_data...\n",
            "[nltk_data]   Unzipping tokenizers/punkt.zip.\n"
          ]
        }
      ]
    },
    {
      "cell_type": "code",
      "metadata": {
        "colab": {
          "base_uri": "https://localhost:8080/"
        },
        "id": "21qQ8pdwhNPS",
        "outputId": "d9f224de-3e9e-4f20-a6a3-d5661a1921b1"
      },
      "source": [
        "from google.colab import drive\n",
        "\n",
        "drive.mount('/content/drive')  "
      ],
      "execution_count": 4,
      "outputs": [
        {
          "output_type": "stream",
          "name": "stdout",
          "text": [
            "Mounted at /content/drive\n"
          ]
        }
      ]
    },
    {
      "cell_type": "code",
      "metadata": {
        "id": "qFIaRPhfMgZU"
      },
      "source": [
        "# Загрузка датасета\n",
        "df_data = pd.read_excel('/content/drive/My Drive/Colab Notebooks/NLP_basic_course/datasets/отзывы за лето.xls')"
      ],
      "execution_count": 5,
      "outputs": []
    },
    {
      "cell_type": "code",
      "metadata": {
        "id": "zNzhSeVKvNFT"
      },
      "source": [
        "# Перевод в тип строка всех отзывов\n",
        "df_data['Content'] = df_data['Content'].astype(str)"
      ],
      "execution_count": 6,
      "outputs": []
    },
    {
      "cell_type": "code",
      "metadata": {
        "id": "1rOKftWD-_6z"
      },
      "source": [
        "# Перевод даты в количество дней от '2017-01-01'\n",
        "df_data['Date'] = pd.to_datetime(df_data['Date'])\n",
        "df_data['Days'] = (df_data['Date'] - datetime.strptime('2017-01-01', '%Y-%m-%d')).dt.days"
      ],
      "execution_count": 7,
      "outputs": []
    },
    {
      "cell_type": "code",
      "metadata": {
        "colab": {
          "base_uri": "https://localhost:8080/",
          "height": 424
        },
        "id": "Q35j4FBOk5eW",
        "outputId": "a8577f90-7007-48b6-be73-ac1f209de17f"
      },
      "source": [
        "# Просмотр датасета\n",
        "df_data"
      ],
      "execution_count": 8,
      "outputs": [
        {
          "output_type": "execute_result",
          "data": {
            "text/html": [
              "<div>\n",
              "<style scoped>\n",
              "    .dataframe tbody tr th:only-of-type {\n",
              "        vertical-align: middle;\n",
              "    }\n",
              "\n",
              "    .dataframe tbody tr th {\n",
              "        vertical-align: top;\n",
              "    }\n",
              "\n",
              "    .dataframe thead th {\n",
              "        text-align: right;\n",
              "    }\n",
              "</style>\n",
              "<table border=\"1\" class=\"dataframe\">\n",
              "  <thead>\n",
              "    <tr style=\"text-align: right;\">\n",
              "      <th></th>\n",
              "      <th>Rating</th>\n",
              "      <th>Content</th>\n",
              "      <th>Date</th>\n",
              "      <th>Days</th>\n",
              "    </tr>\n",
              "  </thead>\n",
              "  <tbody>\n",
              "    <tr>\n",
              "      <th>0</th>\n",
              "      <td>5</td>\n",
              "      <td>It just works!</td>\n",
              "      <td>2017-08-14</td>\n",
              "      <td>225</td>\n",
              "    </tr>\n",
              "    <tr>\n",
              "      <th>1</th>\n",
              "      <td>4</td>\n",
              "      <td>В целом удобноное приложение...из минусов хотя...</td>\n",
              "      <td>2017-08-14</td>\n",
              "      <td>225</td>\n",
              "    </tr>\n",
              "    <tr>\n",
              "      <th>2</th>\n",
              "      <td>5</td>\n",
              "      <td>Отлично все</td>\n",
              "      <td>2017-08-14</td>\n",
              "      <td>225</td>\n",
              "    </tr>\n",
              "    <tr>\n",
              "      <th>3</th>\n",
              "      <td>5</td>\n",
              "      <td>Стал зависать на 1% работы антивируса. Дальше ...</td>\n",
              "      <td>2017-08-14</td>\n",
              "      <td>225</td>\n",
              "    </tr>\n",
              "    <tr>\n",
              "      <th>4</th>\n",
              "      <td>5</td>\n",
              "      <td>Очень удобно, работает быстро.</td>\n",
              "      <td>2017-08-14</td>\n",
              "      <td>225</td>\n",
              "    </tr>\n",
              "    <tr>\n",
              "      <th>...</th>\n",
              "      <td>...</td>\n",
              "      <td>...</td>\n",
              "      <td>...</td>\n",
              "      <td>...</td>\n",
              "    </tr>\n",
              "    <tr>\n",
              "      <th>20654</th>\n",
              "      <td>1</td>\n",
              "      <td>Ну и шляпа,с роот правами бесполезная прога,ра...</td>\n",
              "      <td>2017-06-01</td>\n",
              "      <td>151</td>\n",
              "    </tr>\n",
              "    <tr>\n",
              "      <th>20655</th>\n",
              "      <td>5</td>\n",
              "      <td>Ок</td>\n",
              "      <td>2017-06-01</td>\n",
              "      <td>151</td>\n",
              "    </tr>\n",
              "    <tr>\n",
              "      <th>20656</th>\n",
              "      <td>4</td>\n",
              "      <td>Доволен</td>\n",
              "      <td>2017-06-01</td>\n",
              "      <td>151</td>\n",
              "    </tr>\n",
              "    <tr>\n",
              "      <th>20657</th>\n",
              "      <td>1</td>\n",
              "      <td>Песопаснасть, рут ни нужын</td>\n",
              "      <td>2017-06-01</td>\n",
              "      <td>151</td>\n",
              "    </tr>\n",
              "    <tr>\n",
              "      <th>20658</th>\n",
              "      <td>5</td>\n",
              "      <td>Сбербанк бомбовая компания на сегодняшний день...</td>\n",
              "      <td>2017-06-01</td>\n",
              "      <td>151</td>\n",
              "    </tr>\n",
              "  </tbody>\n",
              "</table>\n",
              "<p>20659 rows × 4 columns</p>\n",
              "</div>"
            ],
            "text/plain": [
              "       Rating  ... Days\n",
              "0           5  ...  225\n",
              "1           4  ...  225\n",
              "2           5  ...  225\n",
              "3           5  ...  225\n",
              "4           5  ...  225\n",
              "...       ...  ...  ...\n",
              "20654       1  ...  151\n",
              "20655       5  ...  151\n",
              "20656       4  ...  151\n",
              "20657       1  ...  151\n",
              "20658       5  ...  151\n",
              "\n",
              "[20659 rows x 4 columns]"
            ]
          },
          "metadata": {},
          "execution_count": 8
        }
      ]
    },
    {
      "cell_type": "code",
      "metadata": {
        "id": "7avwVJ-rpiNG"
      },
      "source": [
        "# Для дальнейшей работы берём отзывы и количество дней от '2017-01-01'\n",
        "X_col_list = ['Content', 'Days'] "
      ],
      "execution_count": 9,
      "outputs": []
    },
    {
      "cell_type": "code",
      "metadata": {
        "id": "jm8opfljkr8Q"
      },
      "source": [
        "# Разделение на тренировочную и тестовую выборки\n",
        "train_x, test_x, train_y, test_y = model_selection.train_test_split(df_data[X_col_list], df_data['Rating'])"
      ],
      "execution_count": 10,
      "outputs": []
    },
    {
      "cell_type": "code",
      "metadata": {
        "colab": {
          "base_uri": "https://localhost:8080/",
          "height": 424
        },
        "id": "gbBNYqBdSlnN",
        "outputId": "42996261-bb43-4903-acdd-2ca7f35e6dda"
      },
      "source": [
        "train_x"
      ],
      "execution_count": 11,
      "outputs": [
        {
          "output_type": "execute_result",
          "data": {
            "text/html": [
              "<div>\n",
              "<style scoped>\n",
              "    .dataframe tbody tr th:only-of-type {\n",
              "        vertical-align: middle;\n",
              "    }\n",
              "\n",
              "    .dataframe tbody tr th {\n",
              "        vertical-align: top;\n",
              "    }\n",
              "\n",
              "    .dataframe thead th {\n",
              "        text-align: right;\n",
              "    }\n",
              "</style>\n",
              "<table border=\"1\" class=\"dataframe\">\n",
              "  <thead>\n",
              "    <tr style=\"text-align: right;\">\n",
              "      <th></th>\n",
              "      <th>Content</th>\n",
              "      <th>Days</th>\n",
              "    </tr>\n",
              "  </thead>\n",
              "  <tbody>\n",
              "    <tr>\n",
              "      <th>4756</th>\n",
              "      <td>Удобно, просто!</td>\n",
              "      <td>218</td>\n",
              "    </tr>\n",
              "    <tr>\n",
              "      <th>6666</th>\n",
              "      <td>Зачем загадили приложение? Более года пользуюс...</td>\n",
              "      <td>215</td>\n",
              "    </tr>\n",
              "    <tr>\n",
              "      <th>1805</th>\n",
              "      <td>Проверка штрафов-каждый раз надо заново вводит...</td>\n",
              "      <td>222</td>\n",
              "    </tr>\n",
              "    <tr>\n",
              "      <th>1595</th>\n",
              "      <td>После обновления стали неверно отображаться да...</td>\n",
              "      <td>222</td>\n",
              "    </tr>\n",
              "    <tr>\n",
              "      <th>724</th>\n",
              "      <td>Все хорошо.</td>\n",
              "      <td>224</td>\n",
              "    </tr>\n",
              "    <tr>\n",
              "      <th>...</th>\n",
              "      <td>...</td>\n",
              "      <td>...</td>\n",
              "    </tr>\n",
              "    <tr>\n",
              "      <th>12481</th>\n",
              "      <td>Не устанавливается пишет код ошибки - 24</td>\n",
              "      <td>207</td>\n",
              "    </tr>\n",
              "    <tr>\n",
              "      <th>5470</th>\n",
              "      <td>Удобное приложение</td>\n",
              "      <td>217</td>\n",
              "    </tr>\n",
              "    <tr>\n",
              "      <th>19725</th>\n",
              "      <td>В приложение возможно зайти только с 3-го раза...</td>\n",
              "      <td>174</td>\n",
              "    </tr>\n",
              "    <tr>\n",
              "      <th>270</th>\n",
              "      <td>Отличное приложение</td>\n",
              "      <td>224</td>\n",
              "    </tr>\n",
              "    <tr>\n",
              "      <th>20002</th>\n",
              "      <td>Скай Коля</td>\n",
              "      <td>167</td>\n",
              "    </tr>\n",
              "  </tbody>\n",
              "</table>\n",
              "<p>15494 rows × 2 columns</p>\n",
              "</div>"
            ],
            "text/plain": [
              "                                                 Content  Days\n",
              "4756                                     Удобно, просто!   218\n",
              "6666   Зачем загадили приложение? Более года пользуюс...   215\n",
              "1805   Проверка штрафов-каждый раз надо заново вводит...   222\n",
              "1595   После обновления стали неверно отображаться да...   222\n",
              "724                                          Все хорошо.   224\n",
              "...                                                  ...   ...\n",
              "12481           Не устанавливается пишет код ошибки - 24   207\n",
              "5470                                  Удобное приложение   217\n",
              "19725  В приложение возможно зайти только с 3-го раза...   174\n",
              "270                                  Отличное приложение   224\n",
              "20002                                          Скай Коля   167\n",
              "\n",
              "[15494 rows x 2 columns]"
            ]
          },
          "metadata": {},
          "execution_count": 11
        }
      ]
    },
    {
      "cell_type": "code",
      "metadata": {
        "id": "HGmK7B0VBydE"
      },
      "source": [
        "# Очистка текста\n",
        "sw = set(get_stop_words(\"ru\"))\n",
        "exclude = set(punctuation)\n",
        "morpher = MorphAnalyzer()\n",
        "\n",
        "def preprocess_text(txt):\n",
        "    txt = str(txt)\n",
        "    txt = \"\".join(c for c in txt if c not in exclude)\n",
        "    txt = txt.lower()\n",
        "    txt = re.sub(\"\\sне\", \"не\", txt)\n",
        "    txt = [morpher.parse(word)[0].normal_form for word in txt.split() if word not in sw]\n",
        "    return \" \".join(txt)\n",
        "\n",
        "train_x['Content'] = train_x['Content'].apply(preprocess_text)\n",
        "test_x['Content'] = test_x['Content'].apply(preprocess_text)"
      ],
      "execution_count": 12,
      "outputs": []
    },
    {
      "cell_type": "code",
      "metadata": {
        "id": "kLY7OKcZByml"
      },
      "source": [
        "# Перевод в нижний регистр\n",
        "train_corpus = \" \".join(train_x[\"Content\"])\n",
        "train_corpus = train_corpus.lower()"
      ],
      "execution_count": 13,
      "outputs": []
    },
    {
      "cell_type": "code",
      "metadata": {
        "id": "rRbUBNnrByrf"
      },
      "source": [
        "# Токенизация\n",
        "tokens = word_tokenize(train_corpus)"
      ],
      "execution_count": 14,
      "outputs": []
    },
    {
      "cell_type": "code",
      "metadata": {
        "id": "0ubPdqr1BytD"
      },
      "source": [
        "# Фильтрация\n",
        "tokens_filtered = [word for word in tokens if word.isalnum()]"
      ],
      "execution_count": 15,
      "outputs": []
    },
    {
      "cell_type": "code",
      "metadata": {
        "id": "Z6270bBROH44"
      },
      "source": [
        "max_words = 10584\n",
        "max_len = 40\n",
        "num_classes = 5\n",
        "\n",
        "# Training\n",
        "epochs = 10\n",
        "batch_size = 512\n",
        "print_batch_n = 100"
      ],
      "execution_count": 16,
      "outputs": []
    },
    {
      "cell_type": "code",
      "metadata": {
        "id": "MaZl2UsdByvw"
      },
      "source": [
        "dist = FreqDist(tokens_filtered)\n",
        "tokens_filtered_top = [pair[0] for pair in dist.most_common(max_words-1)]"
      ],
      "execution_count": 17,
      "outputs": []
    },
    {
      "cell_type": "code",
      "metadata": {
        "id": "4ByM5wkdByzG"
      },
      "source": [
        "# Словарь\n",
        "vocabulary = {v: k for k, v in dict(enumerate(tokens_filtered_top, 1)).items()}"
      ],
      "execution_count": 18,
      "outputs": []
    },
    {
      "cell_type": "code",
      "metadata": {
        "id": "5YvEanU_G9IO"
      },
      "source": [
        "# Функция перевода  последовательность\n",
        "def text_to_sequence(text, maxlen):\n",
        "    result = []\n",
        "    tokens = word_tokenize(text.lower())\n",
        "    tokens_filtered = [word for word in tokens if word.isalnum()]\n",
        "    for word in tokens_filtered:\n",
        "        if word in vocabulary:\n",
        "            result.append(vocabulary[word])\n",
        "    padding = [0]*(maxlen-len(result))\n",
        "    return padding + result[-maxlen:]"
      ],
      "execution_count": 19,
      "outputs": []
    },
    {
      "cell_type": "code",
      "metadata": {
        "id": "Jjo3wLD8G9Lp"
      },
      "source": [
        "#  Тренировочная и тестовая последовательности\n",
        "x_train = np.asarray([text_to_sequence(text, max_len) for text in train_x['Content']], dtype=np.int32)\n",
        "x_test = np.asarray([text_to_sequence(text, max_len) for text in test_x['Content']], dtype=np.int32)"
      ],
      "execution_count": 20,
      "outputs": []
    },
    {
      "cell_type": "code",
      "metadata": {
        "id": "BM6XNyDsJcbw"
      },
      "source": [
        "# OHE\n",
        "encoder = preprocessing.LabelEncoder()\n",
        "train_y = encoder.fit_transform(train_y)\n",
        "test_y = encoder.fit_transform(test_y)"
      ],
      "execution_count": 21,
      "outputs": []
    },
    {
      "cell_type": "code",
      "metadata": {
        "id": "8eMsOeRtG9O6"
      },
      "source": [
        "# Тензоры с метками классов\n",
        "num_classes = 5\n",
        "y_train = keras.utils.np_utils.to_categorical(train_y, num_classes)\n",
        "y_test = keras.utils.np_utils.to_categorical(test_y, num_classes)"
      ],
      "execution_count": 22,
      "outputs": []
    },
    {
      "cell_type": "code",
      "metadata": {
        "id": "OSHuqRnNBy2P"
      },
      "source": [
        "# Модель с учётом дат отзывов\n",
        "input_1 = tf.keras.Input(shape=(max_len))\n",
        "input_2 = tf.keras.Input(shape=(1,))\n",
        "emb_1 = Embedding(input_dim=max_words, output_dim=128, input_length=max_len)(input_1)\n",
        "conv_1 = Conv1D(128, 3, activation='relu')(emb_1)\n",
        "glob_max_pool = GlobalMaxPool1D()(conv_1)\n",
        "dens_1 = Dense(10, activation='relu')(glob_max_pool)\n",
        "dens_2 = Dense(10, activation='relu')(input_2)\n",
        "combined = Concatenate()([dens_1, dens_2])\n",
        "\n",
        "output = Dense(num_classes,activation='softmax' )(combined)\n",
        "\n",
        "model = Model(inputs=[input_1,input_2], outputs=output)\n",
        "model.compile(optimizer='SGD', loss=tf.keras.losses.CategoricalCrossentropy(),\n",
        "              metrics=['accuracy'])\n",
        "\n",
        "model.compile(loss='categorical_crossentropy',\n",
        "              optimizer='adam',\n",
        "              metrics=['accuracy'])\n"
      ],
      "execution_count": 23,
      "outputs": []
    },
    {
      "cell_type": "code",
      "metadata": {
        "colab": {
          "base_uri": "https://localhost:8080/"
        },
        "id": "pwtKFvtTYrs2",
        "outputId": "7464398e-c700-4b1d-bffd-a3f4eab4ae03"
      },
      "source": [
        "history = model.fit([x_train, train_x['Days']], y_train,\n",
        "                    batch_size=batch_size,\n",
        "                    epochs=15,\n",
        "                    verbose=1,\n",
        "                    validation_split=0.1)"
      ],
      "execution_count": 24,
      "outputs": [
        {
          "output_type": "stream",
          "name": "stdout",
          "text": [
            "Epoch 1/15\n",
            "28/28 [==============================] - 6s 196ms/step - loss: 16.5289 - accuracy: 0.1142 - val_loss: 5.6733 - val_accuracy: 0.7161\n",
            "Epoch 2/15\n",
            "28/28 [==============================] - 5s 170ms/step - loss: 6.0953 - accuracy: 0.7100 - val_loss: 4.3316 - val_accuracy: 0.7168\n",
            "Epoch 3/15\n",
            "28/28 [==============================] - 5s 165ms/step - loss: 4.2332 - accuracy: 0.7109 - val_loss: 3.2271 - val_accuracy: 0.7168\n",
            "Epoch 4/15\n",
            "28/28 [==============================] - 5s 161ms/step - loss: 3.0164 - accuracy: 0.7169 - val_loss: 2.1047 - val_accuracy: 0.7432\n",
            "Epoch 5/15\n",
            "28/28 [==============================] - 5s 179ms/step - loss: 1.5445 - accuracy: 0.7463 - val_loss: 0.9938 - val_accuracy: 0.6477\n",
            "Epoch 6/15\n",
            "28/28 [==============================] - 5s 177ms/step - loss: 0.8250 - accuracy: 0.7400 - val_loss: 0.8517 - val_accuracy: 0.7245\n",
            "Epoch 7/15\n",
            "28/28 [==============================] - 5s 166ms/step - loss: 0.7197 - accuracy: 0.7702 - val_loss: 0.8219 - val_accuracy: 0.7445\n",
            "Epoch 8/15\n",
            "28/28 [==============================] - 5s 171ms/step - loss: 0.6577 - accuracy: 0.7823 - val_loss: 0.8055 - val_accuracy: 0.7568\n",
            "Epoch 9/15\n",
            "28/28 [==============================] - 5s 165ms/step - loss: 0.5976 - accuracy: 0.7980 - val_loss: 0.8013 - val_accuracy: 0.7574\n",
            "Epoch 10/15\n",
            "28/28 [==============================] - 5s 164ms/step - loss: 0.5365 - accuracy: 0.8176 - val_loss: 0.8028 - val_accuracy: 0.7555\n",
            "Epoch 11/15\n",
            "28/28 [==============================] - 5s 182ms/step - loss: 0.4724 - accuracy: 0.8394 - val_loss: 0.8062 - val_accuracy: 0.7652\n",
            "Epoch 12/15\n",
            "28/28 [==============================] - 5s 167ms/step - loss: 0.4138 - accuracy: 0.8631 - val_loss: 0.8272 - val_accuracy: 0.7581\n",
            "Epoch 13/15\n",
            "28/28 [==============================] - 5s 187ms/step - loss: 0.3692 - accuracy: 0.8833 - val_loss: 0.8481 - val_accuracy: 0.7632\n",
            "Epoch 14/15\n",
            "28/28 [==============================] - 5s 179ms/step - loss: 0.3321 - accuracy: 0.9022 - val_loss: 0.8761 - val_accuracy: 0.7529\n",
            "Epoch 15/15\n",
            "28/28 [==============================] - 5s 171ms/step - loss: 0.3035 - accuracy: 0.9131 - val_loss: 0.9017 - val_accuracy: 0.7561\n"
          ]
        }
      ]
    },
    {
      "cell_type": "code",
      "metadata": {
        "colab": {
          "base_uri": "https://localhost:8080/"
        },
        "id": "JhbLrU5NcJBv",
        "outputId": "99ee48fa-e094-4248-cafb-05728eb5ca3a"
      },
      "source": [
        "score = model.evaluate([x_test, test_x['Days']], y_test, batch_size=batch_size, verbose=1)\n",
        "print('\\n')\n",
        "print('Test loss:', score[0])\n",
        "print('Test accuracy:', score[1])"
      ],
      "execution_count": 25,
      "outputs": [
        {
          "output_type": "stream",
          "name": "stdout",
          "text": [
            "11/11 [==============================] - 1s 44ms/step - loss: 0.9236 - accuracy: 0.7429\n",
            "\n",
            "\n",
            "Test loss: 0.9235877990722656\n",
            "Test accuracy: 0.7428848147392273\n"
          ]
        }
      ]
    },
    {
      "cell_type": "code",
      "metadata": {
        "id": "Sy63vEOgjbx2"
      },
      "source": [
        "# Модель без учёта дат отзывов\n",
        "model_1 = Sequential()\n",
        "model_1.add(Embedding(input_dim=max_words, output_dim=128, input_length=max_len))\n",
        "model_1.add(Conv1D(128, 3))\n",
        "model_1.add(Activation(\"relu\"))\n",
        "model_1.add(GlobalMaxPool1D())\n",
        "model_1.add(Dense(10))\n",
        "model_1.add(Activation(\"relu\"))\n",
        "model_1.add(Dense(num_classes))\n",
        "model_1.add(Activation('softmax'))"
      ],
      "execution_count": 26,
      "outputs": []
    },
    {
      "cell_type": "code",
      "metadata": {
        "id": "4k0DvuI8jb0n"
      },
      "source": [
        "# Сборка модели\n",
        "model_1.compile(loss='categorical_crossentropy',\n",
        "              optimizer='adam',\n",
        "              metrics=['accuracy'])"
      ],
      "execution_count": 27,
      "outputs": []
    },
    {
      "cell_type": "code",
      "metadata": {
        "colab": {
          "base_uri": "https://localhost:8080/"
        },
        "id": "cNXmlI8Pjb4A",
        "outputId": "fb5e5e02-66a7-49ca-df39-7041db7fca32"
      },
      "source": [
        "'''tensorboard=TensorBoard(log_dir='./logs', write_graph=True, write_images=True)\n",
        "early_stopping=EarlyStopping(monitor='val_loss')  '''\n",
        "\n",
        "# Тренировка модели\n",
        "history_1 = model_1.fit(x_train, y_train,\n",
        "                    batch_size=batch_size,\n",
        "                    epochs=epochs,\n",
        "                    verbose=1,\n",
        "                    validation_split=0.1)"
      ],
      "execution_count": 28,
      "outputs": [
        {
          "output_type": "stream",
          "name": "stdout",
          "text": [
            "Epoch 1/10\n",
            "28/28 [==============================] - 6s 187ms/step - loss: 1.2395 - accuracy: 0.6865 - val_loss: 0.9825 - val_accuracy: 0.7123\n",
            "Epoch 2/10\n",
            "28/28 [==============================] - 5s 184ms/step - loss: 0.8903 - accuracy: 0.7082 - val_loss: 0.7768 - val_accuracy: 0.7277\n",
            "Epoch 3/10\n",
            "28/28 [==============================] - 5s 183ms/step - loss: 0.6928 - accuracy: 0.7610 - val_loss: 0.6763 - val_accuracy: 0.7606\n",
            "Epoch 4/10\n",
            "28/28 [==============================] - 5s 176ms/step - loss: 0.6037 - accuracy: 0.7883 - val_loss: 0.6552 - val_accuracy: 0.7729\n",
            "Epoch 5/10\n",
            "28/28 [==============================] - 4s 159ms/step - loss: 0.5505 - accuracy: 0.8065 - val_loss: 0.6525 - val_accuracy: 0.7787\n",
            "Epoch 6/10\n",
            "28/28 [==============================] - 5s 169ms/step - loss: 0.5013 - accuracy: 0.8267 - val_loss: 0.6620 - val_accuracy: 0.7819\n",
            "Epoch 7/10\n",
            "28/28 [==============================] - 5s 171ms/step - loss: 0.4528 - accuracy: 0.8503 - val_loss: 0.6823 - val_accuracy: 0.7748\n",
            "Epoch 8/10\n",
            "28/28 [==============================] - 5s 165ms/step - loss: 0.4065 - accuracy: 0.8685 - val_loss: 0.7069 - val_accuracy: 0.7755\n",
            "Epoch 9/10\n",
            "28/28 [==============================] - 4s 161ms/step - loss: 0.3632 - accuracy: 0.8853 - val_loss: 0.7418 - val_accuracy: 0.7748\n",
            "Epoch 10/10\n",
            "28/28 [==============================] - 5s 163ms/step - loss: 0.3262 - accuracy: 0.8948 - val_loss: 0.7838 - val_accuracy: 0.7697\n"
          ]
        }
      ]
    },
    {
      "cell_type": "code",
      "metadata": {
        "colab": {
          "base_uri": "https://localhost:8080/"
        },
        "id": "gFR76be8jb6L",
        "outputId": "e08f0ad1-b1dd-426c-cddd-f3c1c8530b02"
      },
      "source": [
        "score_1 = model_1.evaluate(x_test, y_test, batch_size=batch_size, verbose=1)\n",
        "print('\\n')\n",
        "print('Test loss:', score_1[0])\n",
        "print('Test accuracy:', score_1[1])"
      ],
      "execution_count": 29,
      "outputs": [
        {
          "output_type": "stream",
          "name": "stdout",
          "text": [
            "11/11 [==============================] - 0s 36ms/step - loss: 0.7975 - accuracy: 0.7541\n",
            "\n",
            "\n",
            "Test loss: 0.7975063323974609\n",
            "Test accuracy: 0.7541142106056213\n"
          ]
        }
      ]
    },
    {
      "cell_type": "markdown",
      "metadata": {
        "id": "3FO6konqWyaT"
      },
      "source": [
        "2. Рассмотреть 2-а варианта сеточек\n",
        "\n",
        "2.1 Инициализировать tf.keras.layers.Embedding предобученными векторами взять к примеру с https://rusvectores.org/ru/"
      ]
    },
    {
      "cell_type": "code",
      "metadata": {
        "id": "ROSNpqWIKcYY"
      },
      "source": [
        "# Список текстов\n",
        "texts = []  # list of text samples\n",
        "df_data_prep = df_data['Content'].apply(preprocess_text)\n",
        "for text in df_data_prep:\n",
        "  texts.append(text)"
      ],
      "execution_count": 30,
      "outputs": []
    },
    {
      "cell_type": "code",
      "metadata": {
        "id": "gunSWLvfKyKS"
      },
      "source": [
        "#labels_index = {}  # dictionary mapping label name to numeric id\n"
      ],
      "execution_count": 31,
      "outputs": []
    },
    {
      "cell_type": "code",
      "metadata": {
        "colab": {
          "base_uri": "https://localhost:8080/"
        },
        "id": "F-5vWV7nHBv2",
        "outputId": "69538015-6eac-4bf1-8fe9-df66d6aae3fa"
      },
      "source": [
        "# Количество отзывов\n",
        "print('Found %s texts.' % len(texts))"
      ],
      "execution_count": 32,
      "outputs": [
        {
          "output_type": "stream",
          "name": "stdout",
          "text": [
            "Found 20659 texts.\n"
          ]
        }
      ]
    },
    {
      "cell_type": "code",
      "metadata": {
        "colab": {
          "base_uri": "https://localhost:8080/"
        },
        "id": "KC4GQNSWHBzl",
        "outputId": "69e54ab7-24b4-4399-b97e-5afa8dff2b06"
      },
      "source": [
        "VALIDATION_SPLIT = 0.3\n",
        "# Токенизация\n",
        "tokenizer = Tokenizer(nb_words=max_words)\n",
        "tokenizer.fit_on_texts(texts)\n",
        "sequences = tokenizer.texts_to_sequences(texts)\n",
        "\n",
        "word_index = tokenizer.word_index\n",
        "print('Found %s unique tokens.' % len(word_index))\n",
        "# Подготовка тензоров\n",
        "data = pad_sequences(sequences, maxlen=max_len)\n",
        "df_data_y = encoder.fit_transform(df_data['Rating'])\n",
        "labels = keras.utils.np_utils.to_categorical(df_data_y, num_classes)\n",
        "print('Shape of data tensor:', data.shape)\n",
        "print('Shape of label tensor:', labels.shape)\n",
        "\n",
        "# split the data into a training set and a validation set\n",
        "indices = np.arange(data.shape[0])\n",
        "np.random.shuffle(indices)\n",
        "data = data[indices]\n",
        "labels = labels[indices]\n",
        "nb_validation_samples = int(VALIDATION_SPLIT * data.shape[0])\n",
        "\n",
        "x_train_weight = data[:-nb_validation_samples]\n",
        "y_train_weight = labels[:-nb_validation_samples]\n",
        "x_val_weight = data[-nb_validation_samples:]\n",
        "y_val_weight = labels[-nb_validation_samples:]"
      ],
      "execution_count": 33,
      "outputs": [
        {
          "output_type": "stream",
          "name": "stderr",
          "text": [
            "/usr/local/lib/python3.7/dist-packages/keras_preprocessing/text.py:180: UserWarning: The `nb_words` argument in `Tokenizer` has been renamed `num_words`.\n",
            "  warnings.warn('The `nb_words` argument in `Tokenizer` '\n"
          ]
        },
        {
          "output_type": "stream",
          "name": "stdout",
          "text": [
            "Found 13485 unique tokens.\n",
            "Shape of data tensor: (20659, 40)\n",
            "Shape of label tensor: (20659, 5)\n"
          ]
        }
      ]
    },
    {
      "cell_type": "code",
      "metadata": {
        "colab": {
          "base_uri": "https://localhost:8080/"
        },
        "id": "WVF3-iMCWyrx",
        "outputId": "17141a43-655e-4dfc-9341-187a06c8dac5"
      },
      "source": [
        "# Загрузка предобученных эмбеддингов tayga_upos_skipgram_300_2_2019\n",
        "embeddings_index = {}\n",
        "f = open(os.path.join('/content/drive/My Drive/Colab Notebooks/NLP_basic_course/datasets/pretrain/', 'model.txt'))\n",
        "for line in f:\n",
        "    values = line.split()\n",
        "    word_and_ner = values[0].split('_')\n",
        "    word = word_and_ner[0]\n",
        "    coefs = np.asarray(values[1:], dtype='float32')\n",
        "    embeddings_index[word] = coefs\n",
        "f.close()\n",
        "\n",
        "print('Found %s word vectors.' % len(embeddings_index))"
      ],
      "execution_count": 34,
      "outputs": [
        {
          "output_type": "stream",
          "name": "stdout",
          "text": [
            "Found 195436 word vectors.\n"
          ]
        }
      ]
    },
    {
      "cell_type": "code",
      "metadata": {
        "id": "HH-2FrpYZYtI"
      },
      "source": [
        "# Подготовка матрицы весов\n",
        "EMBEDDING_DIM = 300\n",
        "embedding_matrix = np.zeros((len(word_index) + 1, EMBEDDING_DIM))\n",
        "for word, i in word_index.items():\n",
        "    embedding_vector = embeddings_index.get(word)\n",
        "    if embedding_vector is not None:\n",
        "        embedding_matrix[i] = embedding_vector"
      ],
      "execution_count": 35,
      "outputs": []
    },
    {
      "cell_type": "code",
      "metadata": {
        "id": "wsoEhNNWZYzg"
      },
      "source": [
        "# Слой эмендинг\n",
        "embedding_layer = Embedding(len(word_index) + 1,\n",
        "                            EMBEDDING_DIM,\n",
        "                            weights=[embedding_matrix],\n",
        "                            input_length=max_len,\n",
        "                            trainable=False)"
      ],
      "execution_count": 36,
      "outputs": []
    },
    {
      "cell_type": "code",
      "metadata": {
        "id": "oSKR6pzrZY2o"
      },
      "source": [
        "# Слои модели\n",
        "model_2 = Sequential()\n",
        "model_2.add(Input(shape=(max_len,), dtype='int32'))\n",
        "model_2.add(embedding_layer)\n",
        "model_2.add(Conv1D(128, 3))\n",
        "model_2.add(Activation(\"relu\"))\n",
        "model_2.add(GlobalMaxPool1D())\n",
        "model_2.add(Dense(10))\n",
        "model_2.add(Activation(\"relu\"))\n",
        "model_2.add(Dense(num_classes))\n",
        "model_2.add(Activation('softmax'))"
      ],
      "execution_count": 37,
      "outputs": []
    },
    {
      "cell_type": "code",
      "metadata": {
        "id": "Xwtvv0ewZY55"
      },
      "source": [
        "# Компиляция модели\n",
        "model_2.compile(loss='categorical_crossentropy',\n",
        "              optimizer='adam',\n",
        "              metrics=['accuracy'])"
      ],
      "execution_count": 38,
      "outputs": []
    },
    {
      "cell_type": "code",
      "metadata": {
        "colab": {
          "base_uri": "https://localhost:8080/"
        },
        "id": "3PkpSkg-ZY_1",
        "outputId": "8476f169-7790-457b-b97b-fd4622ff8d76"
      },
      "source": [
        "# Обучение модели\n",
        "model_2.fit(x_train_weight, y_train_weight, validation_data=(x_val_weight, y_val_weight),\n",
        "          epochs=10, batch_size=128)"
      ],
      "execution_count": 39,
      "outputs": [
        {
          "output_type": "stream",
          "name": "stdout",
          "text": [
            "Epoch 1/10\n",
            "113/113 [==============================] - 10s 80ms/step - loss: 0.8515 - accuracy: 0.7392 - val_loss: 0.7154 - val_accuracy: 0.7626\n",
            "Epoch 2/10\n",
            "113/113 [==============================] - 9s 77ms/step - loss: 0.6601 - accuracy: 0.7783 - val_loss: 0.6790 - val_accuracy: 0.7710\n",
            "Epoch 3/10\n",
            "113/113 [==============================] - 9s 77ms/step - loss: 0.5853 - accuracy: 0.7984 - val_loss: 0.6703 - val_accuracy: 0.7680\n",
            "Epoch 4/10\n",
            "113/113 [==============================] - 8s 74ms/step - loss: 0.5100 - accuracy: 0.8332 - val_loss: 0.6651 - val_accuracy: 0.7694\n",
            "Epoch 5/10\n",
            "113/113 [==============================] - 9s 77ms/step - loss: 0.4408 - accuracy: 0.8647 - val_loss: 0.6856 - val_accuracy: 0.7662\n",
            "Epoch 6/10\n",
            "113/113 [==============================] - 8s 72ms/step - loss: 0.3795 - accuracy: 0.8902 - val_loss: 0.7285 - val_accuracy: 0.7555\n",
            "Epoch 7/10\n",
            "113/113 [==============================] - 8s 73ms/step - loss: 0.3270 - accuracy: 0.9104 - val_loss: 0.7373 - val_accuracy: 0.7612\n",
            "Epoch 8/10\n",
            "113/113 [==============================] - 9s 78ms/step - loss: 0.2845 - accuracy: 0.9246 - val_loss: 0.7811 - val_accuracy: 0.7579\n",
            "Epoch 9/10\n",
            "113/113 [==============================] - 9s 79ms/step - loss: 0.2540 - accuracy: 0.9322 - val_loss: 0.8106 - val_accuracy: 0.7500\n",
            "Epoch 10/10\n",
            "113/113 [==============================] - 9s 78ms/step - loss: 0.2324 - accuracy: 0.9386 - val_loss: 0.8352 - val_accuracy: 0.7544\n"
          ]
        },
        {
          "output_type": "execute_result",
          "data": {
            "text/plain": [
              "<keras.callbacks.History at 0x7fa3add70f10>"
            ]
          },
          "metadata": {},
          "execution_count": 39
        }
      ]
    },
    {
      "cell_type": "code",
      "metadata": {
        "colab": {
          "base_uri": "https://localhost:8080/"
        },
        "id": "zq2MpKoqZZCk",
        "outputId": "86e3073d-6d3f-4fa9-c81e-f47898f78fce"
      },
      "source": [
        "score_2 = model_2.evaluate(x_val_weight, y_val_weight, batch_size=batch_size, verbose=1)\n",
        "print('\\n')\n",
        "print('Test loss:', score_2[0])\n",
        "print('Test accuracy:', score_2[1])"
      ],
      "execution_count": 40,
      "outputs": [
        {
          "output_type": "stream",
          "name": "stdout",
          "text": [
            "13/13 [==============================] - 1s 92ms/step - loss: 0.8352 - accuracy: 0.7544\n",
            "\n",
            "\n",
            "Test loss: 0.8351878523826599\n",
            "Test accuracy: 0.7543972730636597\n"
          ]
        }
      ]
    },
    {
      "cell_type": "markdown",
      "metadata": {
        "id": "OFU0V1NX1tpP"
      },
      "source": [
        "2.2 Инициализировать слой tf.keras.layers.Embedding по умолчанию (ну то есть вам ничего не делать с весами)\n",
        "\n",
        "Сравнить две архитектуры с предобученными весами и когда tf.keras.layers.Embedding обучается сразу со всей сеточкой, что получилось лучше"
      ]
    },
    {
      "cell_type": "code",
      "metadata": {
        "id": "0lRojdTrWyu8"
      },
      "source": [
        "model_3 = Sequential()\n",
        "model_3.add(Embedding(input_dim=max_words, output_dim=128))\n",
        "model_3.add(Conv1D(128, 3))\n",
        "model_3.add(Activation(\"relu\"))\n",
        "model_3.add(GlobalMaxPool1D())\n",
        "model_3.add(Dense(10))\n",
        "model_3.add(Activation(\"relu\"))\n",
        "model_3.add(Dense(num_classes))\n",
        "model_3.add(Activation('softmax'))"
      ],
      "execution_count": 41,
      "outputs": []
    },
    {
      "cell_type": "code",
      "metadata": {
        "id": "GURbmwlqWyxG"
      },
      "source": [
        "model_3.compile(loss='categorical_crossentropy',\n",
        "              optimizer='adam',\n",
        "              metrics=['accuracy'])"
      ],
      "execution_count": 42,
      "outputs": []
    },
    {
      "cell_type": "code",
      "metadata": {
        "colab": {
          "base_uri": "https://localhost:8080/"
        },
        "id": "Fs5YcrTZWy0z",
        "outputId": "d4ffe3d2-af07-402c-98a4-e193dc13dae9"
      },
      "source": [
        "tensorboard=TensorBoard(log_dir='./logs', write_graph=True, write_images=True)\n",
        "early_stopping=EarlyStopping(monitor='val_loss')  \n",
        "\n",
        "\n",
        "history = model_3.fit(x_train, y_train,\n",
        "                    batch_size=batch_size,\n",
        "                    epochs=epochs,\n",
        "                    verbose=1,\n",
        "                    validation_split=0.1)"
      ],
      "execution_count": 43,
      "outputs": [
        {
          "output_type": "stream",
          "name": "stdout",
          "text": [
            "Epoch 1/10\n",
            "28/28 [==============================] - 6s 184ms/step - loss: 1.2788 - accuracy: 0.6865 - val_loss: 1.0674 - val_accuracy: 0.7123\n",
            "Epoch 2/10\n",
            "28/28 [==============================] - 5s 163ms/step - loss: 0.9924 - accuracy: 0.7073 - val_loss: 0.8616 - val_accuracy: 0.7161\n",
            "Epoch 3/10\n",
            "28/28 [==============================] - 5s 179ms/step - loss: 0.8038 - accuracy: 0.7202 - val_loss: 0.7565 - val_accuracy: 0.7432\n",
            "Epoch 4/10\n",
            "28/28 [==============================] - 5s 176ms/step - loss: 0.6908 - accuracy: 0.7742 - val_loss: 0.6931 - val_accuracy: 0.7658\n",
            "Epoch 5/10\n",
            "28/28 [==============================] - 5s 175ms/step - loss: 0.5987 - accuracy: 0.8047 - val_loss: 0.6658 - val_accuracy: 0.7690\n",
            "Epoch 6/10\n",
            "28/28 [==============================] - 4s 159ms/step - loss: 0.5261 - accuracy: 0.8274 - val_loss: 0.6621 - val_accuracy: 0.7723\n",
            "Epoch 7/10\n",
            "28/28 [==============================] - 4s 159ms/step - loss: 0.4609 - accuracy: 0.8470 - val_loss: 0.6811 - val_accuracy: 0.7652\n",
            "Epoch 8/10\n",
            "28/28 [==============================] - 4s 160ms/step - loss: 0.4081 - accuracy: 0.8630 - val_loss: 0.6947 - val_accuracy: 0.7697\n",
            "Epoch 9/10\n",
            "28/28 [==============================] - 5s 164ms/step - loss: 0.3589 - accuracy: 0.8808 - val_loss: 0.7202 - val_accuracy: 0.7665\n",
            "Epoch 10/10\n",
            "28/28 [==============================] - 4s 160ms/step - loss: 0.3190 - accuracy: 0.9061 - val_loss: 0.7566 - val_accuracy: 0.7658\n"
          ]
        }
      ]
    },
    {
      "cell_type": "code",
      "metadata": {
        "colab": {
          "base_uri": "https://localhost:8080/"
        },
        "id": "GANyIeL1Wy3i",
        "outputId": "4065cab6-587e-44ce-bdc5-eb2e3fddd59c"
      },
      "source": [
        "score_3 = model_3.evaluate(x_test, y_test, batch_size=batch_size, verbose=1)\n",
        "print('\\n')\n",
        "print('Test loss:', score_3[0])\n",
        "print('Test accuracy:', score_3[1])"
      ],
      "execution_count": 44,
      "outputs": [
        {
          "output_type": "stream",
          "name": "stdout",
          "text": [
            "11/11 [==============================] - 0s 37ms/step - loss: 0.7843 - accuracy: 0.7518\n",
            "\n",
            "\n",
            "Test loss: 0.7843283414840698\n",
            "Test accuracy: 0.7517908811569214\n"
          ]
        }
      ]
    },
    {
      "cell_type": "code",
      "metadata": {
        "colab": {
          "base_uri": "https://localhost:8080/"
        },
        "id": "QJ9zRzFrmg1T",
        "outputId": "aad27d2a-c46f-49c9-9407-eca2e11cffeb"
      },
      "source": [
        "print('Test accuracy model with dates:', score[1])\n",
        "print('Test accuracy model without dates:', score_1[1])\n",
        "print('Test accuracy model without dates with pretrained embeddings:', score_2[1])\n",
        "print('Test accuracy model without dates with default embeddings:', score_3[1])"
      ],
      "execution_count": 46,
      "outputs": [
        {
          "output_type": "stream",
          "name": "stdout",
          "text": [
            "Test accuracy model with dates: 0.7428848147392273\n",
            "Test accuracy model without dates: 0.7541142106056213\n",
            "Test accuracy model without dates with pretrained embeddings: 0.7543972730636597\n",
            "Test accuracy model without dates with default embeddings: 0.7517908811569214\n"
          ]
        }
      ]
    },
    {
      "cell_type": "markdown",
      "metadata": {
        "id": "NI484AjU15ng"
      },
      "source": [
        "Точность модели с предобученным эмбеддингом на уровне модели с эмбеддингом по умолчанию"
      ]
    }
  ]
}