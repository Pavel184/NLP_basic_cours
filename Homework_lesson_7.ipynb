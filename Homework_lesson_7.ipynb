{
  "nbformat": 4,
  "nbformat_minor": 0,
  "metadata": {
    "colab": {
      "name": "Homework_lesson_7.ipynb",
      "provenance": [],
      "collapsed_sections": [],
      "include_colab_link": true
    },
    "kernelspec": {
      "display_name": "Python 3",
      "language": "python",
      "name": "python3"
    },
    "language_info": {
      "codemirror_mode": {
        "name": "ipython",
        "version": 3
      },
      "file_extension": ".py",
      "mimetype": "text/x-python",
      "name": "python",
      "nbconvert_exporter": "python",
      "pygments_lexer": "ipython3",
      "version": "3.8.3"
    }
  },
  "cells": [
    {
      "cell_type": "markdown",
      "metadata": {
        "id": "view-in-github",
        "colab_type": "text"
      },
      "source": [
        "<a href=\"https://colab.research.google.com/github/Pavel184/NLP_basic_course/blob/Homework_lesson_7/Homework_lesson_7.ipynb\" target=\"_parent\"><img src=\"https://colab.research.google.com/assets/colab-badge.svg\" alt=\"Open In Colab\"/></a>"
      ]
    },
    {
      "cell_type": "markdown",
      "metadata": {
        "id": "fSYSq4EXoL74"
      },
      "source": [
        "### HOMEWORK_LESSON_7"
      ]
    },
    {
      "cell_type": "markdown",
      "metadata": {
        "id": "BjBwPdHcWr0e"
      },
      "source": [
        "1. Учим conv сеть для классификации"
      ]
    },
    {
      "cell_type": "code",
      "metadata": {
        "id": "1wP3Q9PeMgZO",
        "colab": {
          "base_uri": "https://localhost:8080/"
        },
        "outputId": "d6fb9245-f12f-45b8-ff6b-6f53fb255cc8"
      },
      "source": [
        "!pip install pymorphy2"
      ],
      "execution_count": 1,
      "outputs": [
        {
          "output_type": "stream",
          "name": "stdout",
          "text": [
            "Collecting pymorphy2\n",
            "  Downloading pymorphy2-0.9.1-py3-none-any.whl (55 kB)\n",
            "\u001b[K     |████████████████████████████████| 55 kB 3.0 MB/s \n",
            "\u001b[?25hCollecting pymorphy2-dicts-ru<3.0,>=2.4\n",
            "  Downloading pymorphy2_dicts_ru-2.4.417127.4579844-py2.py3-none-any.whl (8.2 MB)\n",
            "\u001b[K     |████████████████████████████████| 8.2 MB 9.9 MB/s \n",
            "\u001b[?25hCollecting dawg-python>=0.7.1\n",
            "  Downloading DAWG_Python-0.7.2-py2.py3-none-any.whl (11 kB)\n",
            "Requirement already satisfied: docopt>=0.6 in /usr/local/lib/python3.7/dist-packages (from pymorphy2) (0.6.2)\n",
            "Installing collected packages: pymorphy2-dicts-ru, dawg-python, pymorphy2\n",
            "Successfully installed dawg-python-0.7.2 pymorphy2-0.9.1 pymorphy2-dicts-ru-2.4.417127.4579844\n"
          ]
        }
      ]
    },
    {
      "cell_type": "code",
      "metadata": {
        "id": "Tskwb78hMgZP",
        "colab": {
          "base_uri": "https://localhost:8080/"
        },
        "outputId": "efb9128e-429b-46cf-ab9c-57f9c8894687"
      },
      "source": [
        "!pip install stop-words"
      ],
      "execution_count": 2,
      "outputs": [
        {
          "output_type": "stream",
          "name": "stdout",
          "text": [
            "Collecting stop-words\n",
            "  Downloading stop-words-2018.7.23.tar.gz (31 kB)\n",
            "Building wheels for collected packages: stop-words\n",
            "  Building wheel for stop-words (setup.py) ... \u001b[?25l\u001b[?25hdone\n",
            "  Created wheel for stop-words: filename=stop_words-2018.7.23-py3-none-any.whl size=32912 sha256=2494536622e565c9bd1cdf225b5329ab33ca3399d72a478580bd224c9d215014\n",
            "  Stored in directory: /root/.cache/pip/wheels/fb/86/b2/277b10b1ce9f73ce15059bf6975d4547cc4ec3feeb651978e9\n",
            "Successfully built stop-words\n",
            "Installing collected packages: stop-words\n",
            "Successfully installed stop-words-2018.7.23\n"
          ]
        }
      ]
    },
    {
      "cell_type": "code",
      "metadata": {
        "id": "IxR11Ed7MgZP",
        "colab": {
          "base_uri": "https://localhost:8080/"
        },
        "outputId": "8a75a58c-bfc2-4889-8bee-f05745386d00"
      },
      "source": [
        "import pandas as pd\n",
        "import numpy as np\n",
        "import keras\n",
        "from keras import utils as np_utils\n",
        "from keras.models import Sequential, Model\n",
        "from keras.layers import Dense, Dropout, Activation, Input, Embedding, Conv1D, GlobalMaxPool1D\n",
        "from keras.preprocessing.text import Tokenizer\n",
        "from keras.preprocessing.sequence import pad_sequences\n",
        "from keras.callbacks import TensorBoard \n",
        "#from keras.objectives import categorical_crossentropy\n",
        "from keras.callbacks import EarlyStopping  \n",
        "from sklearn import model_selection, preprocessing, linear_model\n",
        "import tensorflow as tf\n",
        "from string import punctuation\n",
        "from stop_words import get_stop_words\n",
        "from pymorphy2 import MorphAnalyzer\n",
        "import re\n",
        "import nltk\n",
        "from nltk.tokenize import word_tokenize\n",
        "nltk.download(\"punkt\")\n",
        "from nltk.probability import FreqDist\n",
        "import os\n"
      ],
      "execution_count": 3,
      "outputs": [
        {
          "output_type": "stream",
          "name": "stdout",
          "text": [
            "[nltk_data] Downloading package punkt to /root/nltk_data...\n",
            "[nltk_data]   Unzipping tokenizers/punkt.zip.\n"
          ]
        }
      ]
    },
    {
      "cell_type": "code",
      "metadata": {
        "colab": {
          "base_uri": "https://localhost:8080/"
        },
        "id": "21qQ8pdwhNPS",
        "outputId": "5677d3fb-7e4d-4ffe-acfc-2ed6323f1e0b"
      },
      "source": [
        "from google.colab import drive\n",
        "\n",
        "drive.mount('/content/drive')  "
      ],
      "execution_count": 4,
      "outputs": [
        {
          "output_type": "stream",
          "name": "stdout",
          "text": [
            "Mounted at /content/drive\n"
          ]
        }
      ]
    },
    {
      "cell_type": "code",
      "metadata": {
        "id": "qFIaRPhfMgZU"
      },
      "source": [
        "# Загрузка датасета\n",
        "df_data = pd.read_excel('/content/drive/My Drive/Colab Notebooks/NLP_basic_course/datasets/отзывы за лето.xls')"
      ],
      "execution_count": 5,
      "outputs": []
    },
    {
      "cell_type": "code",
      "metadata": {
        "id": "zNzhSeVKvNFT"
      },
      "source": [
        "# Перевод в тип строка всех отзывов\n",
        "df_data['Content'] = df_data['Content'].astype(str)"
      ],
      "execution_count": 6,
      "outputs": []
    },
    {
      "cell_type": "code",
      "metadata": {
        "colab": {
          "base_uri": "https://localhost:8080/",
          "height": 424
        },
        "id": "Q35j4FBOk5eW",
        "outputId": "c9fed86e-36ad-4d90-cc04-f3411ea8cb6a"
      },
      "source": [
        "# Просмотр датасета\n",
        "df_data"
      ],
      "execution_count": 7,
      "outputs": [
        {
          "output_type": "execute_result",
          "data": {
            "text/html": [
              "<div>\n",
              "<style scoped>\n",
              "    .dataframe tbody tr th:only-of-type {\n",
              "        vertical-align: middle;\n",
              "    }\n",
              "\n",
              "    .dataframe tbody tr th {\n",
              "        vertical-align: top;\n",
              "    }\n",
              "\n",
              "    .dataframe thead th {\n",
              "        text-align: right;\n",
              "    }\n",
              "</style>\n",
              "<table border=\"1\" class=\"dataframe\">\n",
              "  <thead>\n",
              "    <tr style=\"text-align: right;\">\n",
              "      <th></th>\n",
              "      <th>Rating</th>\n",
              "      <th>Content</th>\n",
              "      <th>Date</th>\n",
              "    </tr>\n",
              "  </thead>\n",
              "  <tbody>\n",
              "    <tr>\n",
              "      <th>0</th>\n",
              "      <td>5</td>\n",
              "      <td>It just works!</td>\n",
              "      <td>2017-08-14</td>\n",
              "    </tr>\n",
              "    <tr>\n",
              "      <th>1</th>\n",
              "      <td>4</td>\n",
              "      <td>В целом удобноное приложение...из минусов хотя...</td>\n",
              "      <td>2017-08-14</td>\n",
              "    </tr>\n",
              "    <tr>\n",
              "      <th>2</th>\n",
              "      <td>5</td>\n",
              "      <td>Отлично все</td>\n",
              "      <td>2017-08-14</td>\n",
              "    </tr>\n",
              "    <tr>\n",
              "      <th>3</th>\n",
              "      <td>5</td>\n",
              "      <td>Стал зависать на 1% работы антивируса. Дальше ...</td>\n",
              "      <td>2017-08-14</td>\n",
              "    </tr>\n",
              "    <tr>\n",
              "      <th>4</th>\n",
              "      <td>5</td>\n",
              "      <td>Очень удобно, работает быстро.</td>\n",
              "      <td>2017-08-14</td>\n",
              "    </tr>\n",
              "    <tr>\n",
              "      <th>...</th>\n",
              "      <td>...</td>\n",
              "      <td>...</td>\n",
              "      <td>...</td>\n",
              "    </tr>\n",
              "    <tr>\n",
              "      <th>20654</th>\n",
              "      <td>1</td>\n",
              "      <td>Ну и шляпа,с роот правами бесполезная прога,ра...</td>\n",
              "      <td>2017-06-01</td>\n",
              "    </tr>\n",
              "    <tr>\n",
              "      <th>20655</th>\n",
              "      <td>5</td>\n",
              "      <td>Ок</td>\n",
              "      <td>2017-06-01</td>\n",
              "    </tr>\n",
              "    <tr>\n",
              "      <th>20656</th>\n",
              "      <td>4</td>\n",
              "      <td>Доволен</td>\n",
              "      <td>2017-06-01</td>\n",
              "    </tr>\n",
              "    <tr>\n",
              "      <th>20657</th>\n",
              "      <td>1</td>\n",
              "      <td>Песопаснасть, рут ни нужын</td>\n",
              "      <td>2017-06-01</td>\n",
              "    </tr>\n",
              "    <tr>\n",
              "      <th>20658</th>\n",
              "      <td>5</td>\n",
              "      <td>Сбербанк бомбовая компания на сегодняшний день...</td>\n",
              "      <td>2017-06-01</td>\n",
              "    </tr>\n",
              "  </tbody>\n",
              "</table>\n",
              "<p>20659 rows × 3 columns</p>\n",
              "</div>"
            ],
            "text/plain": [
              "       Rating                                            Content        Date\n",
              "0           5                                     It just works!  2017-08-14\n",
              "1           4  В целом удобноное приложение...из минусов хотя...  2017-08-14\n",
              "2           5                                        Отлично все  2017-08-14\n",
              "3           5  Стал зависать на 1% работы антивируса. Дальше ...  2017-08-14\n",
              "4           5                     Очень удобно, работает быстро.  2017-08-14\n",
              "...       ...                                                ...         ...\n",
              "20654       1  Ну и шляпа,с роот правами бесполезная прога,ра...  2017-06-01\n",
              "20655       5                                                 Ок  2017-06-01\n",
              "20656       4                                            Доволен  2017-06-01\n",
              "20657       1                         Песопаснасть, рут ни нужын  2017-06-01\n",
              "20658       5  Сбербанк бомбовая компания на сегодняшний день...  2017-06-01\n",
              "\n",
              "[20659 rows x 3 columns]"
            ]
          },
          "metadata": {},
          "execution_count": 7
        }
      ]
    },
    {
      "cell_type": "code",
      "metadata": {
        "id": "7avwVJ-rpiNG"
      },
      "source": [
        "# Для дальнейшей работы берём только сами отзывы\n",
        "X_col_list = ['Content'] #, 'Date'"
      ],
      "execution_count": 8,
      "outputs": []
    },
    {
      "cell_type": "code",
      "metadata": {
        "id": "jm8opfljkr8Q"
      },
      "source": [
        "# Разделение на тренировочную и тестовую выборки\n",
        "train_x, test_x, train_y, test_y = model_selection.train_test_split(df_data[X_col_list], df_data['Rating'])"
      ],
      "execution_count": 9,
      "outputs": []
    },
    {
      "cell_type": "code",
      "metadata": {
        "id": "HGmK7B0VBydE"
      },
      "source": [
        "# Очистка текста\n",
        "sw = set(get_stop_words(\"ru\"))\n",
        "exclude = set(punctuation)\n",
        "morpher = MorphAnalyzer()\n",
        "\n",
        "def preprocess_text(txt):\n",
        "    txt = str(txt)\n",
        "    txt = \"\".join(c for c in txt if c not in exclude)\n",
        "    txt = txt.lower()\n",
        "    txt = re.sub(\"\\sне\", \"не\", txt)\n",
        "    txt = [morpher.parse(word)[0].normal_form for word in txt.split() if word not in sw]\n",
        "    return \" \".join(txt)\n",
        "\n",
        "train_x['Content'] = train_x['Content'].apply(preprocess_text)\n",
        "test_x['Content'] = test_x['Content'].apply(preprocess_text)"
      ],
      "execution_count": 10,
      "outputs": []
    },
    {
      "cell_type": "code",
      "metadata": {
        "id": "kLY7OKcZByml"
      },
      "source": [
        "# Перевод в нижний регистр\n",
        "train_corpus = \" \".join(train_x[\"Content\"])\n",
        "train_corpus = train_corpus.lower()"
      ],
      "execution_count": 11,
      "outputs": []
    },
    {
      "cell_type": "code",
      "metadata": {
        "id": "rRbUBNnrByrf"
      },
      "source": [
        "# Токенизация\n",
        "tokens = word_tokenize(train_corpus)"
      ],
      "execution_count": 12,
      "outputs": []
    },
    {
      "cell_type": "code",
      "metadata": {
        "id": "0ubPdqr1BytD"
      },
      "source": [
        "# Филтрация\n",
        "tokens_filtered = [word for word in tokens if word.isalnum()]"
      ],
      "execution_count": 13,
      "outputs": []
    },
    {
      "cell_type": "code",
      "metadata": {
        "id": "Z6270bBROH44"
      },
      "source": [
        "max_words = 10584\n",
        "max_len = 40\n",
        "num_classes = 5\n",
        "\n",
        "# Training\n",
        "epochs = 10\n",
        "batch_size = 512\n",
        "print_batch_n = 100"
      ],
      "execution_count": 14,
      "outputs": []
    },
    {
      "cell_type": "code",
      "metadata": {
        "id": "MaZl2UsdByvw"
      },
      "source": [
        "dist = FreqDist(tokens_filtered)\n",
        "tokens_filtered_top = [pair[0] for pair in dist.most_common(max_words-1)]"
      ],
      "execution_count": 15,
      "outputs": []
    },
    {
      "cell_type": "code",
      "metadata": {
        "id": "4ByM5wkdByzG"
      },
      "source": [
        "# Словарь\n",
        "vocabulary = {v: k for k, v in dict(enumerate(tokens_filtered_top, 1)).items()}"
      ],
      "execution_count": 16,
      "outputs": []
    },
    {
      "cell_type": "code",
      "metadata": {
        "id": "5YvEanU_G9IO"
      },
      "source": [
        "# Функция перевода  последовательность\n",
        "def text_to_sequence(text, maxlen):\n",
        "    result = []\n",
        "    tokens = word_tokenize(text.lower())\n",
        "    tokens_filtered = [word for word in tokens if word.isalnum()]\n",
        "    for word in tokens_filtered:\n",
        "        if word in vocabulary:\n",
        "            result.append(vocabulary[word])\n",
        "    padding = [0]*(maxlen-len(result))\n",
        "    return padding + result[-maxlen:]"
      ],
      "execution_count": 17,
      "outputs": []
    },
    {
      "cell_type": "code",
      "metadata": {
        "id": "Jjo3wLD8G9Lp"
      },
      "source": [
        "#  Тренировочная и тестовая последовательности\n",
        "x_train = np.asarray([text_to_sequence(text, max_len) for text in train_x['Content']], dtype=np.int32)\n",
        "x_test = np.asarray([text_to_sequence(text, max_len) for text in test_x['Content']], dtype=np.int32)"
      ],
      "execution_count": 18,
      "outputs": []
    },
    {
      "cell_type": "code",
      "metadata": {
        "id": "BM6XNyDsJcbw"
      },
      "source": [
        "# OHE\n",
        "encoder = preprocessing.LabelEncoder()\n",
        "train_y = encoder.fit_transform(train_y)\n",
        "test_y = encoder.fit_transform(test_y)"
      ],
      "execution_count": 19,
      "outputs": []
    },
    {
      "cell_type": "code",
      "metadata": {
        "id": "8eMsOeRtG9O6"
      },
      "source": [
        "# Тензоры с метками классов\n",
        "num_classes = 5\n",
        "y_train = keras.utils.np_utils.to_categorical(train_y, num_classes)\n",
        "y_test = keras.utils.np_utils.to_categorical(test_y, num_classes)"
      ],
      "execution_count": 20,
      "outputs": []
    },
    {
      "cell_type": "code",
      "metadata": {
        "colab": {
          "base_uri": "https://localhost:8080/",
          "height": 35
        },
        "id": "OSHuqRnNBy2P",
        "outputId": "fc1447c5-cfbe-4d41-c677-194569ec6e6a"
      },
      "source": [
        "'''input_1 = tf.keras.Input(shape=(max_words,max_len))\n",
        "input_2 = tf.keras.Input(shape=(max_words,max_len))\n",
        "emb_1 = Embedding(input_dim=max_words, output_dim=128, input_length=max_len)(input_1)'''"
      ],
      "execution_count": 21,
      "outputs": [
        {
          "output_type": "execute_result",
          "data": {
            "application/vnd.google.colaboratory.intrinsic+json": {
              "type": "string"
            },
            "text/plain": [
              "'input_1 = tf.keras.Input(shape=(max_words,max_len))\\ninput_2 = tf.keras.Input(shape=(max_words,max_len))\\nemb_1 = Embedding(input_dim=max_words, output_dim=128, input_length=max_len)(input_1)'"
            ]
          },
          "metadata": {},
          "execution_count": 21
        }
      ]
    },
    {
      "cell_type": "code",
      "metadata": {
        "id": "Sy63vEOgjbx2"
      },
      "source": [
        "# Слои модели\n",
        "model_1 = Sequential()\n",
        "model_1.add(Embedding(input_dim=max_words, output_dim=128, input_length=max_len))\n",
        "model_1.add(Conv1D(128, 3))\n",
        "model_1.add(Activation(\"relu\"))\n",
        "model_1.add(GlobalMaxPool1D())\n",
        "model_1.add(Dense(10))\n",
        "model_1.add(Activation(\"relu\"))\n",
        "model_1.add(Dense(num_classes))\n",
        "model_1.add(Activation('softmax'))"
      ],
      "execution_count": 22,
      "outputs": []
    },
    {
      "cell_type": "code",
      "metadata": {
        "id": "4k0DvuI8jb0n"
      },
      "source": [
        "# Сборка модели\n",
        "model_1.compile(loss='categorical_crossentropy',\n",
        "              optimizer='adam',\n",
        "              metrics=['accuracy'])"
      ],
      "execution_count": 23,
      "outputs": []
    },
    {
      "cell_type": "code",
      "metadata": {
        "colab": {
          "base_uri": "https://localhost:8080/"
        },
        "id": "cNXmlI8Pjb4A",
        "outputId": "5a8f13f5-c1e4-41f0-d5d4-0304d293a459"
      },
      "source": [
        "'''tensorboard=TensorBoard(log_dir='./logs', write_graph=True, write_images=True)\n",
        "early_stopping=EarlyStopping(monitor='val_loss')  '''\n",
        "\n",
        "# Тренировка модели\n",
        "history_1 = model_1.fit(x_train, y_train,\n",
        "                    batch_size=batch_size,\n",
        "                    epochs=epochs,\n",
        "                    verbose=1,\n",
        "                    validation_split=0.1)"
      ],
      "execution_count": 24,
      "outputs": [
        {
          "output_type": "stream",
          "name": "stdout",
          "text": [
            "Epoch 1/10\n",
            "28/28 [==============================] - 5s 139ms/step - loss: 1.2695 - accuracy: 0.6430 - val_loss: 1.0693 - val_accuracy: 0.7032\n",
            "Epoch 2/10\n",
            "28/28 [==============================] - 4s 130ms/step - loss: 0.9162 - accuracy: 0.7179 - val_loss: 0.8142 - val_accuracy: 0.7394\n",
            "Epoch 3/10\n",
            "28/28 [==============================] - 4s 129ms/step - loss: 0.6873 - accuracy: 0.7671 - val_loss: 0.6913 - val_accuracy: 0.7529\n",
            "Epoch 4/10\n",
            "28/28 [==============================] - 4s 132ms/step - loss: 0.5900 - accuracy: 0.7860 - val_loss: 0.6753 - val_accuracy: 0.7613\n",
            "Epoch 5/10\n",
            "28/28 [==============================] - 4s 134ms/step - loss: 0.5262 - accuracy: 0.8100 - val_loss: 0.6756 - val_accuracy: 0.7632\n",
            "Epoch 6/10\n",
            "28/28 [==============================] - 4s 133ms/step - loss: 0.4661 - accuracy: 0.8427 - val_loss: 0.6841 - val_accuracy: 0.7665\n",
            "Epoch 7/10\n",
            "28/28 [==============================] - 4s 134ms/step - loss: 0.4075 - accuracy: 0.8728 - val_loss: 0.6921 - val_accuracy: 0.7639\n",
            "Epoch 8/10\n",
            "28/28 [==============================] - 4s 132ms/step - loss: 0.3518 - accuracy: 0.8952 - val_loss: 0.7117 - val_accuracy: 0.7671\n",
            "Epoch 9/10\n",
            "28/28 [==============================] - 4s 132ms/step - loss: 0.3087 - accuracy: 0.9152 - val_loss: 0.7358 - val_accuracy: 0.7690\n",
            "Epoch 10/10\n",
            "28/28 [==============================] - 4s 135ms/step - loss: 0.2721 - accuracy: 0.9266 - val_loss: 0.7664 - val_accuracy: 0.7606\n"
          ]
        }
      ]
    },
    {
      "cell_type": "code",
      "metadata": {
        "colab": {
          "base_uri": "https://localhost:8080/"
        },
        "id": "gFR76be8jb6L",
        "outputId": "b3f9e236-903f-41d7-cbfc-988910df6ada"
      },
      "source": [
        "score_1 = model_1.evaluate(x_test, y_test, batch_size=batch_size, verbose=1)\n",
        "print('\\n')\n",
        "print('Test loss:', score_1[0])\n",
        "print('Test accuracy:', score_1[1])"
      ],
      "execution_count": 25,
      "outputs": [
        {
          "output_type": "stream",
          "name": "stdout",
          "text": [
            "11/11 [==============================] - 0s 33ms/step - loss: 0.7696 - accuracy: 0.7644\n",
            "\n",
            "\n",
            "Test loss: 0.7696125507354736\n",
            "Test accuracy: 0.764375627040863\n"
          ]
        }
      ]
    },
    {
      "cell_type": "markdown",
      "metadata": {
        "id": "3FO6konqWyaT"
      },
      "source": [
        "2. Рассмотреть 2-а варианта сеточек\n",
        "\n",
        "2.1 Инициализировать tf.keras.layers.Embedding предобученными векторами взять к примеру с https://rusvectores.org/ru/"
      ]
    },
    {
      "cell_type": "code",
      "metadata": {
        "id": "ROSNpqWIKcYY"
      },
      "source": [
        "# Список текстов\n",
        "texts = []  # list of text samples\n",
        "df_data_prep = df_data['Content'].apply(preprocess_text)\n",
        "for text in df_data_prep:\n",
        "  texts.append(text)"
      ],
      "execution_count": 27,
      "outputs": []
    },
    {
      "cell_type": "code",
      "metadata": {
        "id": "gunSWLvfKyKS"
      },
      "source": [
        "#labels_index = {}  # dictionary mapping label name to numeric id\n"
      ],
      "execution_count": 28,
      "outputs": []
    },
    {
      "cell_type": "code",
      "metadata": {
        "colab": {
          "base_uri": "https://localhost:8080/"
        },
        "id": "F-5vWV7nHBv2",
        "outputId": "09ea1739-234b-4eb4-9ab8-0143690e3ba6"
      },
      "source": [
        "# Количество отзывов\n",
        "print('Found %s texts.' % len(texts))"
      ],
      "execution_count": 29,
      "outputs": [
        {
          "output_type": "stream",
          "name": "stdout",
          "text": [
            "Found 20659 texts.\n"
          ]
        }
      ]
    },
    {
      "cell_type": "code",
      "metadata": {
        "colab": {
          "base_uri": "https://localhost:8080/"
        },
        "id": "KC4GQNSWHBzl",
        "outputId": "b13cfc99-ab1d-4037-ff7e-b420d9f837bb"
      },
      "source": [
        "VALIDATION_SPLIT = 0.3\n",
        "# Токенизация\n",
        "tokenizer = Tokenizer(nb_words=max_words)\n",
        "tokenizer.fit_on_texts(texts)\n",
        "sequences = tokenizer.texts_to_sequences(texts)\n",
        "\n",
        "word_index = tokenizer.word_index\n",
        "print('Found %s unique tokens.' % len(word_index))\n",
        "# Подготовка тензоров\n",
        "data = pad_sequences(sequences, maxlen=max_len)\n",
        "df_data_y = encoder.fit_transform(df_data['Rating'])\n",
        "labels = keras.utils.np_utils.to_categorical(df_data_y, num_classes)\n",
        "print('Shape of data tensor:', data.shape)\n",
        "print('Shape of label tensor:', labels.shape)\n",
        "\n",
        "# split the data into a training set and a validation set\n",
        "indices = np.arange(data.shape[0])\n",
        "np.random.shuffle(indices)\n",
        "data = data[indices]\n",
        "labels = labels[indices]\n",
        "nb_validation_samples = int(VALIDATION_SPLIT * data.shape[0])\n",
        "\n",
        "x_train_weight = data[:-nb_validation_samples]\n",
        "y_train_weight = labels[:-nb_validation_samples]\n",
        "x_val_weight = data[-nb_validation_samples:]\n",
        "y_val_weight = labels[-nb_validation_samples:]"
      ],
      "execution_count": 30,
      "outputs": [
        {
          "output_type": "stream",
          "name": "stderr",
          "text": [
            "/usr/local/lib/python3.7/dist-packages/keras_preprocessing/text.py:180: UserWarning: The `nb_words` argument in `Tokenizer` has been renamed `num_words`.\n",
            "  warnings.warn('The `nb_words` argument in `Tokenizer` '\n"
          ]
        },
        {
          "output_type": "stream",
          "name": "stdout",
          "text": [
            "Found 13485 unique tokens.\n",
            "Shape of data tensor: (20659, 40)\n",
            "Shape of label tensor: (20659, 5)\n"
          ]
        }
      ]
    },
    {
      "cell_type": "code",
      "metadata": {
        "colab": {
          "base_uri": "https://localhost:8080/"
        },
        "id": "WVF3-iMCWyrx",
        "outputId": "9a0887f5-351a-4a0c-ca5b-dc658251dec4"
      },
      "source": [
        "# Загрузка предобученных эмбендингов tayga_upos_skipgram_300_2_2019\n",
        "embeddings_index = {}\n",
        "f = open(os.path.join('/content/drive/My Drive/Colab Notebooks/NLP_basic_course/datasets/pretrain/', 'model.txt'))\n",
        "for line in f:\n",
        "    values = line.split()\n",
        "    word_and_ner = values[0].split('_')\n",
        "    word = word_and_ner[0]\n",
        "    coefs = np.asarray(values[1:], dtype='float32')\n",
        "    embeddings_index[word] = coefs\n",
        "f.close()\n",
        "\n",
        "print('Found %s word vectors.' % len(embeddings_index))"
      ],
      "execution_count": 31,
      "outputs": [
        {
          "output_type": "stream",
          "name": "stdout",
          "text": [
            "Found 195436 word vectors.\n"
          ]
        }
      ]
    },
    {
      "cell_type": "code",
      "metadata": {
        "id": "HH-2FrpYZYtI"
      },
      "source": [
        "# Подготовка матрицы весов\n",
        "EMBEDDING_DIM = 300\n",
        "embedding_matrix = np.zeros((len(word_index) + 1, EMBEDDING_DIM))\n",
        "for word, i in word_index.items():\n",
        "    embedding_vector = embeddings_index.get(word)\n",
        "    if embedding_vector is not None:\n",
        "        embedding_matrix[i] = embedding_vector"
      ],
      "execution_count": 32,
      "outputs": []
    },
    {
      "cell_type": "code",
      "metadata": {
        "id": "wsoEhNNWZYzg"
      },
      "source": [
        "# Слой эмендинг\n",
        "embedding_layer = Embedding(len(word_index) + 1,\n",
        "                            EMBEDDING_DIM,\n",
        "                            weights=[embedding_matrix],\n",
        "                            input_length=max_len,\n",
        "                            trainable=False)"
      ],
      "execution_count": 33,
      "outputs": []
    },
    {
      "cell_type": "code",
      "metadata": {
        "id": "oSKR6pzrZY2o"
      },
      "source": [
        "# Слои модели\n",
        "model_2 = Sequential()\n",
        "model_2.add(Input(shape=(max_len,), dtype='int32'))\n",
        "model_2.add(embedding_layer)\n",
        "model_2.add(Conv1D(128, 3))\n",
        "model_2.add(Activation(\"relu\"))\n",
        "model_2.add(GlobalMaxPool1D())\n",
        "model_2.add(Dense(10))\n",
        "model_2.add(Activation(\"relu\"))\n",
        "model_2.add(Dense(num_classes))\n",
        "model_2.add(Activation('softmax'))"
      ],
      "execution_count": 34,
      "outputs": []
    },
    {
      "cell_type": "code",
      "metadata": {
        "id": "Xwtvv0ewZY55"
      },
      "source": [
        "# Компиляция модели\n",
        "model_2.compile(loss='categorical_crossentropy',\n",
        "              optimizer='adam',\n",
        "              metrics=['accuracy'])"
      ],
      "execution_count": 35,
      "outputs": []
    },
    {
      "cell_type": "code",
      "metadata": {
        "colab": {
          "base_uri": "https://localhost:8080/"
        },
        "id": "3PkpSkg-ZY_1",
        "outputId": "18ac9203-b747-43cb-9412-deb7b13c8be7"
      },
      "source": [
        "# Обучение модели\n",
        "model_2.fit(x_train_weight, y_train_weight, validation_data=(x_val_weight, y_val_weight),\n",
        "          epochs=10, batch_size=128)"
      ],
      "execution_count": 36,
      "outputs": [
        {
          "output_type": "stream",
          "name": "stdout",
          "text": [
            "Epoch 1/10\n",
            "113/113 [==============================] - 7s 62ms/step - loss: 0.8140 - accuracy: 0.7466 - val_loss: 0.7251 - val_accuracy: 0.7583\n",
            "Epoch 2/10\n",
            "113/113 [==============================] - 7s 59ms/step - loss: 0.6471 - accuracy: 0.7794 - val_loss: 0.6939 - val_accuracy: 0.7600\n",
            "Epoch 3/10\n",
            "113/113 [==============================] - 7s 58ms/step - loss: 0.5756 - accuracy: 0.7986 - val_loss: 0.6674 - val_accuracy: 0.7691\n",
            "Epoch 4/10\n",
            "113/113 [==============================] - 7s 59ms/step - loss: 0.5115 - accuracy: 0.8250 - val_loss: 0.6670 - val_accuracy: 0.7647\n",
            "Epoch 5/10\n",
            "113/113 [==============================] - 7s 58ms/step - loss: 0.4482 - accuracy: 0.8517 - val_loss: 0.6903 - val_accuracy: 0.7615\n",
            "Epoch 6/10\n",
            "113/113 [==============================] - 7s 58ms/step - loss: 0.3967 - accuracy: 0.8750 - val_loss: 0.7289 - val_accuracy: 0.7641\n",
            "Epoch 7/10\n",
            "113/113 [==============================] - 7s 58ms/step - loss: 0.3386 - accuracy: 0.8999 - val_loss: 0.7281 - val_accuracy: 0.7554\n",
            "Epoch 8/10\n",
            "113/113 [==============================] - 7s 58ms/step - loss: 0.2919 - accuracy: 0.9212 - val_loss: 0.7686 - val_accuracy: 0.7554\n",
            "Epoch 9/10\n",
            "113/113 [==============================] - 7s 58ms/step - loss: 0.2535 - accuracy: 0.9327 - val_loss: 0.8218 - val_accuracy: 0.7563\n",
            "Epoch 10/10\n",
            "113/113 [==============================] - 7s 58ms/step - loss: 0.2300 - accuracy: 0.9401 - val_loss: 0.8630 - val_accuracy: 0.7541\n"
          ]
        },
        {
          "output_type": "execute_result",
          "data": {
            "text/plain": [
              "<keras.callbacks.History at 0x7f891f017c10>"
            ]
          },
          "metadata": {},
          "execution_count": 36
        }
      ]
    },
    {
      "cell_type": "code",
      "metadata": {
        "colab": {
          "base_uri": "https://localhost:8080/"
        },
        "id": "zq2MpKoqZZCk",
        "outputId": "8caf2cf7-a596-4c6c-9592-3187b134e895"
      },
      "source": [
        "score_2 = model_2.evaluate(x_val_weight, y_val_weight, batch_size=batch_size, verbose=1)\n",
        "print('\\n')\n",
        "print('Test loss:', score_2[0])\n",
        "print('Test accuracy:', score_2[1])"
      ],
      "execution_count": 37,
      "outputs": [
        {
          "output_type": "stream",
          "name": "stdout",
          "text": [
            "13/13 [==============================] - 1s 74ms/step - loss: 0.8630 - accuracy: 0.7541\n",
            "\n",
            "\n",
            "Test loss: 0.8629739284515381\n",
            "Test accuracy: 0.7540745735168457\n"
          ]
        }
      ]
    },
    {
      "cell_type": "markdown",
      "metadata": {
        "id": "OFU0V1NX1tpP"
      },
      "source": [
        "2.2 Инициализировать слой tf.keras.layers.Embedding по умолчанию (ну то есть вам ничего не делать с весами)\n",
        "\n",
        "Сравнить две архитектуры с предобученными весами и когда tf.keras.layers.Embedding обучается сразу со всей сеточкой, что получилось лучше"
      ]
    },
    {
      "cell_type": "code",
      "metadata": {
        "id": "0lRojdTrWyu8"
      },
      "source": [
        "model_3 = Sequential()\n",
        "model_3.add(Embedding(input_dim=max_words, output_dim=128))\n",
        "model_3.add(Conv1D(128, 3))\n",
        "model_3.add(Activation(\"relu\"))\n",
        "model_3.add(GlobalMaxPool1D())\n",
        "model_3.add(Dense(10))\n",
        "model_3.add(Activation(\"relu\"))\n",
        "model_3.add(Dense(num_classes))\n",
        "model_3.add(Activation('softmax'))"
      ],
      "execution_count": 42,
      "outputs": []
    },
    {
      "cell_type": "code",
      "metadata": {
        "id": "GURbmwlqWyxG"
      },
      "source": [
        "model_3.compile(loss='categorical_crossentropy',\n",
        "              optimizer='adam',\n",
        "              metrics=['accuracy'])"
      ],
      "execution_count": 43,
      "outputs": []
    },
    {
      "cell_type": "code",
      "metadata": {
        "colab": {
          "base_uri": "https://localhost:8080/"
        },
        "id": "Fs5YcrTZWy0z",
        "outputId": "88c6518f-dc4e-4c56-9069-178e2216206e"
      },
      "source": [
        "tensorboard=TensorBoard(log_dir='./logs', write_graph=True, write_images=True)\n",
        "early_stopping=EarlyStopping(monitor='val_loss')  \n",
        "\n",
        "\n",
        "history = model_3.fit(x_train, y_train,\n",
        "                    batch_size=batch_size,\n",
        "                    epochs=epochs,\n",
        "                    verbose=1,\n",
        "                    validation_split=0.1)"
      ],
      "execution_count": 44,
      "outputs": [
        {
          "output_type": "stream",
          "name": "stdout",
          "text": [
            "Epoch 1/10\n",
            "28/28 [==============================] - 4s 140ms/step - loss: 1.3427 - accuracy: 0.6575 - val_loss: 1.0400 - val_accuracy: 0.7026\n",
            "Epoch 2/10\n",
            "28/28 [==============================] - 4s 135ms/step - loss: 0.8970 - accuracy: 0.7154 - val_loss: 0.8158 - val_accuracy: 0.7387\n",
            "Epoch 3/10\n",
            "28/28 [==============================] - 4s 135ms/step - loss: 0.7410 - accuracy: 0.7630 - val_loss: 0.7546 - val_accuracy: 0.7548\n",
            "Epoch 4/10\n",
            "28/28 [==============================] - 4s 133ms/step - loss: 0.6645 - accuracy: 0.7845 - val_loss: 0.7259 - val_accuracy: 0.7626\n",
            "Epoch 5/10\n",
            "28/28 [==============================] - 4s 134ms/step - loss: 0.6001 - accuracy: 0.8054 - val_loss: 0.7134 - val_accuracy: 0.7639\n",
            "Epoch 6/10\n",
            "28/28 [==============================] - 4s 137ms/step - loss: 0.5400 - accuracy: 0.8265 - val_loss: 0.7072 - val_accuracy: 0.7697\n",
            "Epoch 7/10\n",
            "28/28 [==============================] - 4s 134ms/step - loss: 0.4797 - accuracy: 0.8435 - val_loss: 0.7093 - val_accuracy: 0.7710\n",
            "Epoch 8/10\n",
            "28/28 [==============================] - 4s 135ms/step - loss: 0.4228 - accuracy: 0.8602 - val_loss: 0.7172 - val_accuracy: 0.7626\n",
            "Epoch 9/10\n",
            "28/28 [==============================] - 4s 135ms/step - loss: 0.3678 - accuracy: 0.8893 - val_loss: 0.7474 - val_accuracy: 0.7548\n",
            "Epoch 10/10\n",
            "28/28 [==============================] - 4s 135ms/step - loss: 0.3203 - accuracy: 0.9072 - val_loss: 0.7802 - val_accuracy: 0.7497\n"
          ]
        }
      ]
    },
    {
      "cell_type": "code",
      "metadata": {
        "colab": {
          "base_uri": "https://localhost:8080/"
        },
        "id": "GANyIeL1Wy3i",
        "outputId": "b978092b-bd53-476e-99d2-2649ff957037"
      },
      "source": [
        "score_3 = model_3.evaluate(x_test, y_test, batch_size=batch_size, verbose=1)\n",
        "print('\\n')\n",
        "print('Test loss:', score_3[0])\n",
        "print('Test accuracy:', score_3[1])"
      ],
      "execution_count": 46,
      "outputs": [
        {
          "output_type": "stream",
          "name": "stdout",
          "text": [
            "11/11 [==============================] - 0s 33ms/step - loss: 0.7984 - accuracy: 0.7514\n",
            "\n",
            "\n",
            "Test loss: 0.7983616590499878\n",
            "Test accuracy: 0.7514036893844604\n"
          ]
        }
      ]
    },
    {
      "cell_type": "markdown",
      "metadata": {
        "id": "NI484AjU15ng"
      },
      "source": [
        "Точность модели с предобученным эмбендингом на уровне модели с эмбендингом по умолчанию"
      ]
    }
  ]
}